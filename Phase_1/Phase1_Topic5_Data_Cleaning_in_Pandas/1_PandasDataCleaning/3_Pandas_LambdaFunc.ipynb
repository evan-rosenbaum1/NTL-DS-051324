{
 "cells": [
  {
   "cell_type": "markdown",
   "metadata": {
    "slideshow": {
     "slide_type": "slide"
    }
   },
   "source": [
    "<div style=\"color:white;\n",
    "           display:fill;\n",
    "           border-radius:5px;\n",
    "           background-color:#5642C5;\n",
    "           font-size:200%;\n",
    "           font-family:Arial;letter-spacing:0.5px\">\n",
    "\n",
    "<p width = 20%, style=\"padding: 10px;\n",
    "              color:white;\">\n",
    "Lambda Functions and Pandas Transformations\n",
    "              \n",
    "</p>\n",
    "</div>\n",
    "\n",
    "NTL-DS-051324\n",
    "<p>Phase 1: Topic 5.3</p>\n",
    "<br>\n",
    "<br>\n",
    "\n",
    "<div align = \"right\">\n",
    "<img src=\"Images/flatiron-school-logo.png\" align = \"right\" width=\"200\"/>\n",
    "</div>\n",
    "    \n",
    "    "
   ]
  },
  {
   "cell_type": "markdown",
   "metadata": {
    "slideshow": {
     "slide_type": "slide"
    }
   },
   "source": [
    "#### Lambda Functions\n",
    "\n",
    "- Lambda functions: simple way to write small, single use functions.\n",
    "- Often used as argument in other functions:\n",
    "    - E.g.,  `.map()` or `.apply()` method in pandas series/DataFrame\n",
    "\n",
    "Let's see lambda functions aiding us in a sort operation:"
   ]
  },
  {
   "cell_type": "markdown",
   "metadata": {
    "slideshow": {
     "slide_type": "slide"
    }
   },
   "source": [
    "#### Lambda functions within the `sort()` function\n",
    "Sort this list on the last name.\n"
   ]
  },
  {
   "cell_type": "code",
   "execution_count": null,
   "metadata": {
    "slideshow": {
     "slide_type": "slide"
    }
   },
   "outputs": [],
   "source": [
    "# Without a key\n",
    "names = ['Miriam Marks','Sidney Baird','Elaine Barrera','Eddie Reeves','Marley Beard',\n",
    "         'Jaiden Liu','Bethany Martin','Stephen Rios','Audrey Mayer','Kameron Davidson',\n",
    "         'Carter Wong','Teagan Bennett']\n",
    "sorted(names)"
   ]
  },
  {
   "cell_type": "markdown",
   "metadata": {
    "slideshow": {
     "slide_type": "slide"
    }
   },
   "source": [
    "Hmmm...its sorting on the first character.\n",
    "- Lambda function as argument: return last name as sorting key"
   ]
  },
  {
   "cell_type": "code",
   "execution_count": null,
   "metadata": {
    "slideshow": {
     "slide_type": "fragment"
    }
   },
   "outputs": [],
   "source": [
    "# Sorting by last name\n",
    "names = ['Miriam Marks','Sidney Baird','Elaine Barrera','Eddie Reeves','Marley Beard',\n",
    "         'Jaiden Liu','Bethany Martin','Stephen Rios','Audrey Mayer','Kameron Davidson',\n",
    "'Teagan Bennett']\n",
    "sorted(names, key=lambda x: x.split()[1])\n"
   ]
  },
  {
   "cell_type": "markdown",
   "metadata": {
    "slideshow": {
     "slide_type": "slide"
    }
   },
   "source": [
    "#### Lambda functions with pandas `.map()`\n",
    "Let's take a look at using lambda expressions on a Yelp ratings dataset."
   ]
  },
  {
   "cell_type": "code",
   "execution_count": 5,
   "metadata": {
    "scrolled": true,
    "slideshow": {
     "slide_type": "slide"
    }
   },
   "outputs": [
    {
     "data": {
      "text/html": [
       "<div>\n",
       "<style scoped>\n",
       "    .dataframe tbody tr th:only-of-type {\n",
       "        vertical-align: middle;\n",
       "    }\n",
       "\n",
       "    .dataframe tbody tr th {\n",
       "        vertical-align: top;\n",
       "    }\n",
       "\n",
       "    .dataframe thead th {\n",
       "        text-align: right;\n",
       "    }\n",
       "</style>\n",
       "<table border=\"1\" class=\"dataframe\">\n",
       "  <thead>\n",
       "    <tr style=\"text-align: right;\">\n",
       "      <th></th>\n",
       "      <th>business_id</th>\n",
       "      <th>cool</th>\n",
       "      <th>date</th>\n",
       "      <th>funny</th>\n",
       "      <th>review_id</th>\n",
       "      <th>stars</th>\n",
       "      <th>text</th>\n",
       "      <th>useful</th>\n",
       "      <th>user_id</th>\n",
       "    </tr>\n",
       "  </thead>\n",
       "  <tbody>\n",
       "    <tr>\n",
       "      <th>0</th>\n",
       "      <td>pomGBqfbxcqPv14c3XH-ZQ</td>\n",
       "      <td>0</td>\n",
       "      <td>2012-11-13</td>\n",
       "      <td>0</td>\n",
       "      <td>dDl8zu1vWPdKGihJrwQbpw</td>\n",
       "      <td>5</td>\n",
       "      <td>I love this place! My fiance And I go here atl...</td>\n",
       "      <td>0</td>\n",
       "      <td>msQe1u7Z_XuqjGoqhB0J5g</td>\n",
       "    </tr>\n",
       "    <tr>\n",
       "      <th>1</th>\n",
       "      <td>jtQARsP6P-LbkyjbO1qNGg</td>\n",
       "      <td>1</td>\n",
       "      <td>2014-10-23</td>\n",
       "      <td>1</td>\n",
       "      <td>LZp4UX5zK3e-c5ZGSeo3kA</td>\n",
       "      <td>1</td>\n",
       "      <td>Terrible. Dry corn bread. Rib tips were all fa...</td>\n",
       "      <td>3</td>\n",
       "      <td>msQe1u7Z_XuqjGoqhB0J5g</td>\n",
       "    </tr>\n",
       "    <tr>\n",
       "      <th>2</th>\n",
       "      <td>Ums3gaP2qM3W1XcA5r6SsQ</td>\n",
       "      <td>0</td>\n",
       "      <td>2014-09-05</td>\n",
       "      <td>0</td>\n",
       "      <td>jsDu6QEJHbwP2Blom1PLCA</td>\n",
       "      <td>5</td>\n",
       "      <td>Delicious healthy food. The steak is amazing. ...</td>\n",
       "      <td>0</td>\n",
       "      <td>msQe1u7Z_XuqjGoqhB0J5g</td>\n",
       "    </tr>\n",
       "    <tr>\n",
       "      <th>3</th>\n",
       "      <td>vgfcTvK81oD4r50NMjU2Ag</td>\n",
       "      <td>0</td>\n",
       "      <td>2011-02-25</td>\n",
       "      <td>0</td>\n",
       "      <td>pfavA0hr3nyqO61oupj-lA</td>\n",
       "      <td>1</td>\n",
       "      <td>This place sucks. The customer service is horr...</td>\n",
       "      <td>2</td>\n",
       "      <td>msQe1u7Z_XuqjGoqhB0J5g</td>\n",
       "    </tr>\n",
       "    <tr>\n",
       "      <th>4</th>\n",
       "      <td>yFumR3CWzpfvTH2FCthvVw</td>\n",
       "      <td>0</td>\n",
       "      <td>2016-06-15</td>\n",
       "      <td>0</td>\n",
       "      <td>STiFMww2z31siPY7BWNC2g</td>\n",
       "      <td>5</td>\n",
       "      <td>I have been an Emerald Club member for a numbe...</td>\n",
       "      <td>0</td>\n",
       "      <td>TlvV-xJhmh7LCwJYXkV-cg</td>\n",
       "    </tr>\n",
       "    <tr>\n",
       "      <th>...</th>\n",
       "      <td>...</td>\n",
       "      <td>...</td>\n",
       "      <td>...</td>\n",
       "      <td>...</td>\n",
       "      <td>...</td>\n",
       "      <td>...</td>\n",
       "      <td>...</td>\n",
       "      <td>...</td>\n",
       "      <td>...</td>\n",
       "    </tr>\n",
       "    <tr>\n",
       "      <th>2605</th>\n",
       "      <td>BTcY04QFiS1uh-RpkR7rAg</td>\n",
       "      <td>1</td>\n",
       "      <td>2013-06-02</td>\n",
       "      <td>0</td>\n",
       "      <td>6_A58CCY8SHB7r-Wu7-A5g</td>\n",
       "      <td>5</td>\n",
       "      <td>Came here with my 2 year old daughter for our ...</td>\n",
       "      <td>2</td>\n",
       "      <td>q3AiAe-AcpDrNsdZf8nCvQ</td>\n",
       "    </tr>\n",
       "    <tr>\n",
       "      <th>2606</th>\n",
       "      <td>t0T_4MM4EUHbCzBTF11FHA</td>\n",
       "      <td>0</td>\n",
       "      <td>2016-08-14</td>\n",
       "      <td>0</td>\n",
       "      <td>KqQwNyfoFiJOw911mrULIg</td>\n",
       "      <td>5</td>\n",
       "      <td>Great little restaurant. Not to many tables an...</td>\n",
       "      <td>0</td>\n",
       "      <td>NJxaA7q9BhqaDrFpfR2Jeg</td>\n",
       "    </tr>\n",
       "    <tr>\n",
       "      <th>2607</th>\n",
       "      <td>5XYR6doRa5Nj1JMfSDei6A</td>\n",
       "      <td>1</td>\n",
       "      <td>2016-06-14</td>\n",
       "      <td>0</td>\n",
       "      <td>xlGJkxoIBl8XH8wVsPZpnw</td>\n",
       "      <td>5</td>\n",
       "      <td>Always great friendly service and fresh baked ...</td>\n",
       "      <td>0</td>\n",
       "      <td>kBNFdviedCPFWyR-wVaAzw</td>\n",
       "    </tr>\n",
       "    <tr>\n",
       "      <th>2608</th>\n",
       "      <td>aLcFhMe6DDJ430zelCpd2A</td>\n",
       "      <td>0</td>\n",
       "      <td>2013-10-02</td>\n",
       "      <td>0</td>\n",
       "      <td>kwiEG_KCpDB6aK5fTSM7iw</td>\n",
       "      <td>2</td>\n",
       "      <td>We were expecting amazing Thai food after all ...</td>\n",
       "      <td>1</td>\n",
       "      <td>PkRFSQgSfca9Tamq7b2LdQ</td>\n",
       "    </tr>\n",
       "    <tr>\n",
       "      <th>2609</th>\n",
       "      <td>WdBWhGe4Siqg3IYTc4_K4A</td>\n",
       "      <td>0</td>\n",
       "      <td>2016-08-15</td>\n",
       "      <td>0</td>\n",
       "      <td>O0ttxNGxHKtD8Cnnwc_j1g</td>\n",
       "      <td>1</td>\n",
       "      <td>Sunday at 8p. Not many people here at all. We ...</td>\n",
       "      <td>0</td>\n",
       "      <td>ic9zIsm7zoxUm3Axyegx8g</td>\n",
       "    </tr>\n",
       "  </tbody>\n",
       "</table>\n",
       "<p>2610 rows × 9 columns</p>\n",
       "</div>"
      ],
      "text/plain": [
       "                 business_id  cool        date  funny               review_id  \\\n",
       "0     pomGBqfbxcqPv14c3XH-ZQ     0  2012-11-13      0  dDl8zu1vWPdKGihJrwQbpw   \n",
       "1     jtQARsP6P-LbkyjbO1qNGg     1  2014-10-23      1  LZp4UX5zK3e-c5ZGSeo3kA   \n",
       "2     Ums3gaP2qM3W1XcA5r6SsQ     0  2014-09-05      0  jsDu6QEJHbwP2Blom1PLCA   \n",
       "3     vgfcTvK81oD4r50NMjU2Ag     0  2011-02-25      0  pfavA0hr3nyqO61oupj-lA   \n",
       "4     yFumR3CWzpfvTH2FCthvVw     0  2016-06-15      0  STiFMww2z31siPY7BWNC2g   \n",
       "...                      ...   ...         ...    ...                     ...   \n",
       "2605  BTcY04QFiS1uh-RpkR7rAg     1  2013-06-02      0  6_A58CCY8SHB7r-Wu7-A5g   \n",
       "2606  t0T_4MM4EUHbCzBTF11FHA     0  2016-08-14      0  KqQwNyfoFiJOw911mrULIg   \n",
       "2607  5XYR6doRa5Nj1JMfSDei6A     1  2016-06-14      0  xlGJkxoIBl8XH8wVsPZpnw   \n",
       "2608  aLcFhMe6DDJ430zelCpd2A     0  2013-10-02      0  kwiEG_KCpDB6aK5fTSM7iw   \n",
       "2609  WdBWhGe4Siqg3IYTc4_K4A     0  2016-08-15      0  O0ttxNGxHKtD8Cnnwc_j1g   \n",
       "\n",
       "      stars                                               text  useful  \\\n",
       "0         5  I love this place! My fiance And I go here atl...       0   \n",
       "1         1  Terrible. Dry corn bread. Rib tips were all fa...       3   \n",
       "2         5  Delicious healthy food. The steak is amazing. ...       0   \n",
       "3         1  This place sucks. The customer service is horr...       2   \n",
       "4         5  I have been an Emerald Club member for a numbe...       0   \n",
       "...     ...                                                ...     ...   \n",
       "2605      5  Came here with my 2 year old daughter for our ...       2   \n",
       "2606      5  Great little restaurant. Not to many tables an...       0   \n",
       "2607      5  Always great friendly service and fresh baked ...       0   \n",
       "2608      2  We were expecting amazing Thai food after all ...       1   \n",
       "2609      1  Sunday at 8p. Not many people here at all. We ...       0   \n",
       "\n",
       "                     user_id  \n",
       "0     msQe1u7Z_XuqjGoqhB0J5g  \n",
       "1     msQe1u7Z_XuqjGoqhB0J5g  \n",
       "2     msQe1u7Z_XuqjGoqhB0J5g  \n",
       "3     msQe1u7Z_XuqjGoqhB0J5g  \n",
       "4     TlvV-xJhmh7LCwJYXkV-cg  \n",
       "...                      ...  \n",
       "2605  q3AiAe-AcpDrNsdZf8nCvQ  \n",
       "2606  NJxaA7q9BhqaDrFpfR2Jeg  \n",
       "2607  kBNFdviedCPFWyR-wVaAzw  \n",
       "2608  PkRFSQgSfca9Tamq7b2LdQ  \n",
       "2609  ic9zIsm7zoxUm3Axyegx8g  \n",
       "\n",
       "[2610 rows x 9 columns]"
      ]
     },
     "execution_count": 5,
     "metadata": {},
     "output_type": "execute_result"
    }
   ],
   "source": [
    "import pandas as pd\n",
    "df = pd.read_csv('data/Yelp_Reviews.csv', index_col = 0).reset_index()\n",
    "df.head(5)\n",
    "\n",
    "df.drop(columns = 'index')\n",
    "#df.info()"
   ]
  },
  {
   "cell_type": "markdown",
   "metadata": {
    "slideshow": {
     "slide_type": "slide"
    }
   },
   "source": [
    "Simple example: naively select the year from the date string rather than convert it to a datetime object."
   ]
  },
  {
   "cell_type": "code",
   "execution_count": 6,
   "metadata": {
    "scrolled": true,
    "slideshow": {
     "slide_type": "fragment"
    }
   },
   "outputs": [
    {
     "data": {
      "text/plain": [
       "0    2012\n",
       "1    2014\n",
       "2    2014\n",
       "3    2011\n",
       "4    2016\n",
       "Name: date, dtype: object"
      ]
     },
     "execution_count": 6,
     "metadata": {},
     "output_type": "execute_result"
    }
   ],
   "source": [
    "df.date.map(lambda x: x[:4]).head()"
   ]
  },
  {
   "cell_type": "markdown",
   "metadata": {
    "slideshow": {
     "slide_type": "slide"
    }
   },
   "source": [
    "More realistic example:\n",
    "- Get list of the length of each word in a given review."
   ]
  },
  {
   "cell_type": "code",
   "execution_count": 7,
   "metadata": {
    "slideshow": {
     "slide_type": "fragment"
    }
   },
   "outputs": [
    {
     "data": {
      "text/plain": [
       "'I love this place! My fiance And I go here atleast once a week. The portions are huge! Food is amazing. I love their carne asada. They have great lunch specials... Leticia is super nice and cares about what you think of her restaurant. You have to try their cheese enchiladas too the sauce is different And amazing!!!'"
      ]
     },
     "execution_count": 7,
     "metadata": {},
     "output_type": "execute_result"
    }
   ],
   "source": [
    "df['text'][0]\n"
   ]
  },
  {
   "cell_type": "code",
   "execution_count": 10,
   "metadata": {
    "cell_style": "center",
    "slideshow": {
     "slide_type": "fragment"
    }
   },
   "outputs": [
    {
     "data": {
      "text/plain": [
       "0    [1, 4, 4, 6, 2, 6, 3, 1, 2, 4, 7, 4, 1, 5, 3, ...\n",
       "1    [9, 3, 4, 6, 3, 4, 4, 3, 3, 3, 5, 3, 3, 2, 7, ...\n",
       "2    [9, 7, 5, 3, 5, 2, 8, 4, 3, 4, 3, 7, 4, 7, 2, ...\n",
       "3    [4, 5, 6, 3, 8, 7, 2, 9, 4, 4, 5, 4, 6, 3, 5, ...\n",
       "4    [1, 4, 4, 2, 7, 4, 6, 3, 1, 6, 2, 6, 1, 4, 6, ...\n",
       "Name: text, dtype: object"
      ]
     },
     "execution_count": 10,
     "metadata": {},
     "output_type": "execute_result"
    }
   ],
   "source": [
    "df['text'].map(lambda text: [len(word) for word in text.split()]).head()\n"
   ]
  },
  {
   "cell_type": "markdown",
   "metadata": {
    "slideshow": {
     "slide_type": "slide"
    }
   },
   "source": [
    "Variable name you use as parameter in `lambda` expression does not matter:"
   ]
  },
  {
   "cell_type": "code",
   "execution_count": 11,
   "metadata": {
    "slideshow": {
     "slide_type": "fragment"
    }
   },
   "outputs": [
    {
     "data": {
      "text/plain": [
       "0    [1, 4, 4, 6, 2, 6, 3, 1, 2, 4, 7, 4, 1, 5, 3, ...\n",
       "1    [9, 3, 4, 6, 3, 4, 4, 3, 3, 3, 5, 3, 3, 2, 7, ...\n",
       "2    [9, 7, 5, 3, 5, 2, 8, 4, 3, 4, 3, 7, 4, 7, 2, ...\n",
       "3    [4, 5, 6, 3, 8, 7, 2, 9, 4, 4, 5, 4, 6, 3, 5, ...\n",
       "4    [1, 4, 4, 2, 7, 4, 6, 3, 1, 6, 2, 6, 1, 4, 6, ...\n",
       "Name: text, dtype: object"
      ]
     },
     "execution_count": 11,
     "metadata": {},
     "output_type": "execute_result"
    }
   ],
   "source": [
    "df['text'].map(lambda banana: [len(word) for word in banana.split()]).head()"
   ]
  },
  {
   "cell_type": "markdown",
   "metadata": {
    "slideshow": {
     "slide_type": "slide"
    }
   },
   "source": [
    "#### Lambda functions with conditionals\n",
    "Lambda functions can also accept some conditionals if chained in a list comprehension"
   ]
  },
  {
   "cell_type": "code",
   "execution_count": 12,
   "metadata": {
    "slideshow": {
     "slide_type": "fragment"
    }
   },
   "outputs": [
    {
     "data": {
      "text/plain": [
       "0    Good\n",
       "1     Bad\n",
       "2    Good\n",
       "3     Bad\n",
       "4     Bad\n",
       "Name: text, dtype: object"
      ]
     },
     "execution_count": 12,
     "metadata": {},
     "output_type": "execute_result"
    }
   ],
   "source": [
    "df['text'].map(lambda x: 'Good' if any([word in x.lower() for word in ['awesome', 'love', 'good', 'great']]) else 'Bad').head()"
   ]
  },
  {
   "cell_type": "code",
   "execution_count": 13,
   "metadata": {},
   "outputs": [
    {
     "data": {
      "text/plain": [
       "0       I love this place! My fiance And I go here atl...\n",
       "1       Terrible. Dry corn bread. Rib tips were all fa...\n",
       "2       Delicious healthy food. The steak is amazing. ...\n",
       "3       This place sucks. The customer service is horr...\n",
       "4       I have been an Emerald Club member for a numbe...\n",
       "                              ...                        \n",
       "2605    Came here with my 2 year old daughter for our ...\n",
       "2606    Great little restaurant. Not to many tables an...\n",
       "2607    Always great friendly service and fresh baked ...\n",
       "2608    We were expecting amazing Thai food after all ...\n",
       "2609    Sunday at 8p. Not many people here at all. We ...\n",
       "Name: text, Length: 2610, dtype: object"
      ]
     },
     "execution_count": 13,
     "metadata": {},
     "output_type": "execute_result"
    }
   ],
   "source": [
    "df['text']"
   ]
  },
  {
   "cell_type": "markdown",
   "metadata": {
    "slideshow": {
     "slide_type": "fragment"
    }
   },
   "source": [
    "##### Note\n",
    "This is ugly, un-Pythonic and not in line with [PEP 8](https://www.python.org/dev/peps/pep-0008/).\n",
    "- Guidline for max characters in a line: 72 \n",
    "- Above: 127 characters. "
   ]
  },
  {
   "cell_type": "markdown",
   "metadata": {
    "slideshow": {
     "slide_type": "slide"
    }
   },
   "source": [
    "#### Lambda functions with pandas `.apply()`\n",
    "\n",
    "Let's go back to our trusty cereal dataset!"
   ]
  },
  {
   "cell_type": "code",
   "execution_count": null,
   "metadata": {
    "slideshow": {
     "slide_type": "fragment"
    }
   },
   "outputs": [],
   "source": [
    "cereal_df = pd.read_csv('Data/cereal.csv', index_col = 'name').drop(columns = ['shelf'])\n",
    "cereal_df.head(2)"
   ]
  },
  {
   "cell_type": "markdown",
   "metadata": {
    "slideshow": {
     "slide_type": "slide"
    }
   },
   "source": [
    "Now we want to apply a standardization transformation to the numeric columns of this dataframe:\n",
    "- For each column subtract by its mean an divide by standard deviation: $$ \\hat{x}_i^{col} = \\frac{x_i^{col} - \\mu^{col} }{s^{col}} $$"
   ]
  },
  {
   "cell_type": "markdown",
   "metadata": {
    "slideshow": {
     "slide_type": "slide"
    }
   },
   "source": [
    "- `.map()` expression takes in a column (Series) in the Dataframe\n",
    "- `.apply()`: applies to each column in DataFrame.\n"
   ]
  },
  {
   "cell_type": "code",
   "execution_count": null,
   "metadata": {
    "slideshow": {
     "slide_type": "fragment"
    }
   },
   "outputs": [],
   "source": [
    "cereal_df.loc[:, 'calories':'rating'].apply(lambda col: (col - col.mean())/col.std(), axis = 0)"
   ]
  },
  {
   "cell_type": "markdown",
   "metadata": {
    "slideshow": {
     "slide_type": "slide"
    }
   },
   "source": [
    "This is a very important kind of transformation. We'll see it later in greater detail."
   ]
  },
  {
   "cell_type": "markdown",
   "metadata": {
    "collapsed": true,
    "slideshow": {
     "slide_type": "slide"
    }
   },
   "source": [
    "#### When to use lambda functions\n",
    "\n",
    "- Single line of code\n",
    "- Single use function\n",
    "- Relatively easy to read."
   ]
  },
  {
   "cell_type": "markdown",
   "metadata": {
    "slideshow": {
     "slide_type": "slide"
    }
   },
   "source": [
    "\n",
    "\n",
    "\n",
    "\n",
    "\n",
    "\n",
    "\n",
    "\n",
    "\n",
    "\n",
    "\n",
    "\n",
    "\n",
    "\n",
    "\n",
    "\n",
    "\n",
    "\n",
    "\n",
    "\n",
    "\n",
    "\n",
    "\n",
    "\n",
    "\n",
    "\n",
    "\n",
    "\n",
    "\n",
    "\n",
    "## When not to use lambda functions\n",
    "\n",
    "- Several lines of code in lambda expression.\n",
    "- Multiple conditions, loops, etc in function.\n",
    "- Want to reuse this function often.\n",
    "\n",
    "If it's hard for you to read, it's even harder for anyone else.\n"
   ]
  }
 ],
 "metadata": {
  "kernelspec": {
   "display_name": "Python (learn-env)",
   "language": "python",
   "name": "learn-env"
  },
  "language_info": {
   "codemirror_mode": {
    "name": "ipython",
    "version": 3
   },
   "file_extension": ".py",
   "mimetype": "text/x-python",
   "name": "python",
   "nbconvert_exporter": "python",
   "pygments_lexer": "ipython3",
   "version": "3.8.5"
  }
 },
 "nbformat": 4,
 "nbformat_minor": 2
}
